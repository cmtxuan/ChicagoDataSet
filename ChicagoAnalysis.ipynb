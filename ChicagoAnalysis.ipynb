{
 "cells": [
  {
   "cell_type": "markdown",
   "id": "15881744",
   "metadata": {
    "papermill": {
     "duration": 0.009831,
     "end_time": "2023-04-24T03:24:15.179572",
     "exception": false,
     "start_time": "2023-04-24T03:24:15.169741",
     "status": "completed"
    },
    "tags": []
   },
   "source": [
    "# **ANALYSIS OF CHICAGO DATASET**\n"
   ]
  },
  {
   "cell_type": "markdown",
   "id": "2e9d2083",
   "metadata": {
    "papermill": {
     "duration": 0.00849,
     "end_time": "2023-04-24T03:24:15.197047",
     "exception": false,
     "start_time": "2023-04-24T03:24:15.188557",
     "status": "completed"
    },
    "tags": []
   },
   "source": [
    "# Introduction\n",
    "\n",
    "Using this Python notebook we can:\n",
    "\n",
    "1.  Understand three Chicago datasets\n",
    "2.  Load the three datasets into three tables in a Db2 database\n",
    "3.  Execute SQL queries to answer assignment questions"
   ]
  },
  {
   "cell_type": "markdown",
   "id": "10166d25",
   "metadata": {
    "papermill": {
     "duration": 0.008061,
     "end_time": "2023-04-24T03:24:15.213752",
     "exception": false,
     "start_time": "2023-04-24T03:24:15.205691",
     "status": "completed"
    },
    "tags": []
   },
   "source": [
    "## Understand the datasets\n",
    "\n",
    "To complete the assignment problems in this notebook you will be using three datasets that are available on the city of Chicago's Data Portal:\n",
    "\n",
    "1.  <a href=\"https://data.cityofchicago.org/Health-Human-Services/Census-Data-Selected-socioeconomic-indicators-in-C/kn9c-c2s2?utm_medium=Exinfluencer&utm_source=Exinfluencer&utm_content=000026UJ&utm_term=10006555&utm_id=NA-SkillsNetwork-Channel-SkillsNetworkCoursesIBMDeveloperSkillsNetworkDB0201ENSkillsNetwork20127838-2021-01-01\">Socioeconomic Indicators in Chicago</a>\n",
    "2.  <a href=\"https://data.cityofchicago.org/Education/Chicago-Public-Schools-Progress-Report-Cards-2011-/9xs2-f89t?utm_medium=Exinfluencer&utm_source=Exinfluencer&utm_content=000026UJ&utm_term=10006555&utm_id=NA-SkillsNetwork-Channel-SkillsNetworkCoursesIBMDeveloperSkillsNetworkDB0201ENSkillsNetwork20127838-2021-01-01\">Chicago Public Schools</a>\n",
    "3.  <a href=\"https://data.cityofchicago.org/Public-Safety/Crimes-2001-to-present/ijzp-q8t2?utm_medium=Exinfluencer&utm_source=Exinfluencer&utm_content=000026UJ&utm_term=10006555&utm_id=NA-SkillsNetwork-Channel-SkillsNetworkCoursesIBMDeveloperSkillsNetworkDB0201ENSkillsNetwork20127838-2021-01-01\">Chicago Crime Data</a>\n",
    "\n",
    "### 1. Socioeconomic Indicators in Chicago\n",
    "\n",
    "This dataset contains a selection of six socioeconomic indicators of public health significance and a “hardship index,” for each Chicago community area, for the years 2008 – 2012.\n",
    "\n",
    "A detailed description of this dataset and the original dataset can be obtained from the Chicago Data Portal at:\n",
    "[https://data.cityofchicago.org/Health-Human-Services/Census-Data-Selected-socioeconomic-indicators-in-C/kn9c-c2s2](https://data.cityofchicago.org/Health-Human-Services/Census-Data-Selected-socioeconomic-indicators-in-C/kn9c-c2s2?utm_medium=Exinfluencer&utm_source=Exinfluencer&utm_content=000026UJ&utm_term=10006555&utm_id=NA-SkillsNetwork-Channel-SkillsNetworkCoursesIBMDeveloperSkillsNetworkDB0201ENSkillsNetwork20127838-2021-01-01&cm_mmc=Email_Newsletter-_-Developer_Ed%2BTech-_-WW_WW-_-SkillsNetwork-Courses-IBMDeveloperSkillsNetwork-DB0201EN-SkillsNetwork-20127838&cm_mmca1=000026UJ&cm_mmca2=10006555&cm_mmca3=M12345678&cvosrc=email.Newsletter.M12345678&cvo_campaign=000026UJ)\n",
    "\n",
    "### 2. Chicago Public Schools\n",
    "\n",
    "This dataset shows all school level performance data used to create CPS School Report Cards for the 2011-2012 school year. This dataset is provided by the city of Chicago's Data Portal.\n",
    "\n",
    "A detailed description of this dataset and the original dataset can be obtained from the Chicago Data Portal at:\n",
    "[https://data.cityofchicago.org/Education/Chicago-Public-Schools-Progress-Report-Cards-2011-/9xs2-f89t](https://data.cityofchicago.org/Education/Chicago-Public-Schools-Progress-Report-Cards-2011-/9xs2-f89t?utm_medium=Exinfluencer&utm_source=Exinfluencer&utm_content=000026UJ&utm_term=10006555&utm_id=NA-SkillsNetwork-Channel-SkillsNetworkCoursesIBMDeveloperSkillsNetworkDB0201ENSkillsNetwork20127838-2021-01-01&cm_mmc=Email_Newsletter-_-Developer_Ed%2BTech-_-WW_WW-_-SkillsNetwork-Courses-IBMDeveloperSkillsNetwork-DB0201EN-SkillsNetwork-20127838&cm_mmca1=000026UJ&cm_mmca2=10006555&cm_mmca3=M12345678&cvosrc=email.Newsletter.M12345678&cvo_campaign=000026UJ)\n",
    "\n",
    "### 3. Chicago Crime Data\n",
    "\n",
    "This dataset reflects reported incidents of crime (with the exception of murders where data exists for each victim) that occurred in the City of Chicago from 2001 to present, minus the most recent seven days.\n",
    "\n",
    "A detailed description of this dataset and the original dataset can be obtained from the Chicago Data Portal at:\n",
    "[https://data.cityofchicago.org/Public-Safety/Crimes-2001-to-present/ijzp-q8t2](https://data.cityofchicago.org/Public-Safety/Crimes-2001-to-present/ijzp-q8t2?utm_medium=Exinfluencer&utm_source=Exinfluencer&utm_content=000026UJ&utm_term=10006555&utm_id=NA-SkillsNetwork-Channel-SkillsNetworkCoursesIBMDeveloperSkillsNetworkDB0201ENSkillsNetwork20127838-2021-01-01&cm_mmc=Email_Newsletter-_-Developer_Ed%2BTech-_-WW_WW-_-SkillsNetwork-Courses-IBMDeveloperSkillsNetwork-DB0201EN-SkillsNetwork-20127838&cm_mmca1=000026UJ&cm_mmca2=10006555&cm_mmca3=M12345678&cvosrc=email.Newsletter.M12345678&cvo_campaign=000026UJ)\n"
   ]
  },
  {
   "cell_type": "code",
   "execution_count": 1,
   "id": "0553d140",
   "metadata": {
    "execution": {
     "iopub.execute_input": "2023-04-24T03:24:15.233558Z",
     "iopub.status.busy": "2023-04-24T03:24:15.232819Z",
     "iopub.status.idle": "2023-04-24T03:24:15.245017Z",
     "shell.execute_reply": "2023-04-24T03:24:15.243968Z"
    },
    "papermill": {
     "duration": 0.025466,
     "end_time": "2023-04-24T03:24:15.247717",
     "exception": false,
     "start_time": "2023-04-24T03:24:15.222251",
     "status": "completed"
    },
    "tags": []
   },
   "outputs": [
    {
     "name": "stdout",
     "output_type": "stream",
     "text": [
      "The sql extension is already loaded. To reload it, use:\n",
      "  %reload_ext sql\n"
     ]
    }
   ],
   "source": [
    "%load_ext sql"
   ]
  },
  {
   "cell_type": "code",
   "execution_count": 2,
   "id": "b5c364ba",
   "metadata": {
    "execution": {
     "iopub.execute_input": "2023-04-24T03:24:15.267705Z",
     "iopub.status.busy": "2023-04-24T03:24:15.266913Z",
     "iopub.status.idle": "2023-04-24T03:24:15.272256Z",
     "shell.execute_reply": "2023-04-24T03:24:15.271246Z"
    },
    "papermill": {
     "duration": 0.018186,
     "end_time": "2023-04-24T03:24:15.274628",
     "exception": false,
     "start_time": "2023-04-24T03:24:15.256442",
     "status": "completed"
    },
    "tags": []
   },
   "outputs": [],
   "source": [
    "import csv, sqlite3\n",
    "\n",
    "con = sqlite3.connect(\"socioeconomic.db\")\n",
    "cur = con.cursor()"
   ]
  },
  {
   "cell_type": "code",
   "execution_count": 3,
   "id": "60083ee4",
   "metadata": {
    "execution": {
     "iopub.execute_input": "2023-04-24T03:24:15.294766Z",
     "iopub.status.busy": "2023-04-24T03:24:15.293971Z",
     "iopub.status.idle": "2023-04-24T03:24:47.841308Z",
     "shell.execute_reply": "2023-04-24T03:24:47.839352Z"
    },
    "papermill": {
     "duration": 32.562934,
     "end_time": "2023-04-24T03:24:47.846468",
     "exception": false,
     "start_time": "2023-04-24T03:24:15.283534",
     "status": "completed"
    },
    "tags": []
   },
   "outputs": [
    {
     "name": "stdout",
     "output_type": "stream",
     "text": [
      "Requirement already satisfied: pandas in /opt/conda/lib/python3.7/site-packages (1.3.5)\r\n",
      "Requirement already satisfied: numpy>=1.17.3 in /opt/conda/lib/python3.7/site-packages (from pandas) (1.21.6)\r\n",
      "Requirement already satisfied: pytz>=2017.3 in /opt/conda/lib/python3.7/site-packages (from pandas) (2022.7.1)\r\n",
      "Requirement already satisfied: python-dateutil>=2.7.3 in /opt/conda/lib/python3.7/site-packages (from pandas) (2.8.2)\r\n",
      "Requirement already satisfied: six>=1.5 in /opt/conda/lib/python3.7/site-packages (from python-dateutil>=2.7.3->pandas) (1.16.0)\r\n",
      "\u001b[33mWARNING: Running pip as the 'root' user can result in broken permissions and conflicting behaviour with the system package manager. It is recommended to use a virtual environment instead: https://pip.pypa.io/warnings/venv\u001b[0m\u001b[33m\r\n",
      "\u001b[0m\u001b[33mWARNING: There was an error checking the latest version of pip.\u001b[0m\u001b[33m\r\n",
      "\u001b[0m"
     ]
    }
   ],
   "source": [
    "!pip install pandas"
   ]
  },
  {
   "cell_type": "code",
   "execution_count": 4,
   "id": "a2ffc33c",
   "metadata": {
    "execution": {
     "iopub.execute_input": "2023-04-24T03:24:47.869623Z",
     "iopub.status.busy": "2023-04-24T03:24:47.867964Z",
     "iopub.status.idle": "2023-04-24T03:24:47.917590Z",
     "shell.execute_reply": "2023-04-24T03:24:47.916296Z"
    },
    "papermill": {
     "duration": 0.064391,
     "end_time": "2023-04-24T03:24:47.920473",
     "exception": false,
     "start_time": "2023-04-24T03:24:47.856082",
     "status": "completed"
    },
    "tags": []
   },
   "outputs": [],
   "source": [
    "%sql sqlite:///socioeconomic.db"
   ]
  },
  {
   "cell_type": "code",
   "execution_count": 5,
   "id": "706b0cb6",
   "metadata": {
    "execution": {
     "iopub.execute_input": "2023-04-24T03:24:47.940416Z",
     "iopub.status.busy": "2023-04-24T03:24:47.939305Z",
     "iopub.status.idle": "2023-04-24T03:24:48.176697Z",
     "shell.execute_reply": "2023-04-24T03:24:48.175311Z"
    },
    "papermill": {
     "duration": 0.250471,
     "end_time": "2023-04-24T03:24:48.179785",
     "exception": false,
     "start_time": "2023-04-24T03:24:47.929314",
     "status": "completed"
    },
    "tags": []
   },
   "outputs": [
    {
     "name": "stderr",
     "output_type": "stream",
     "text": [
      "/opt/conda/lib/python3.7/site-packages/pandas/core/generic.py:2882: UserWarning: The spaces in these column names will not be changed. In pandas versions < 0.14, spaces were converted to underscores.\n",
      "  method=method,\n"
     ]
    }
   ],
   "source": [
    "import pandas as pd\n",
    "df0 = pd.read_csv('/kaggle/input/ibm-data-science-chicago-assignment/ChicagoCrimeData.csv')\n",
    "df0.to_sql(\"ChicagoCrimeData\", con, if_exists='replace', index=False,method=\"multi\")\n",
    "df1 = pd.read_csv('/kaggle/input/ibm-data-science-chicago-assignment/ChicagoPublicSchools.csv')\n",
    "df1.to_sql(\"ChicagoPublicSchools\", con, if_exists='replace', index=False,method=\"multi\")\n",
    "df2 = pd.read_csv('/kaggle/input/ibm-data-science-chicago-assignment/ChicagoCensusData.csv')\n",
    "df2.to_sql(\"ChicagoCensusData\", con, if_exists='replace', index=False,method=\"multi\")"
   ]
  },
  {
   "cell_type": "markdown",
   "id": "3bfe8230",
   "metadata": {
    "papermill": {
     "duration": 0.008839,
     "end_time": "2023-04-24T03:24:48.197509",
     "exception": false,
     "start_time": "2023-04-24T03:24:48.188670",
     "status": "completed"
    },
    "tags": []
   },
   "source": [
    "## Problems\n",
    "\n",
    "Now write and execute SQL queries to solve assignment problems\n",
    "\n",
    "### Problem 1\n",
    "\n",
    "#### Find the total number of crimes recorded in the CRIME table.\n"
   ]
  },
  {
   "cell_type": "code",
   "execution_count": 6,
   "id": "19d0882d",
   "metadata": {
    "execution": {
     "iopub.execute_input": "2023-04-24T03:24:48.217816Z",
     "iopub.status.busy": "2023-04-24T03:24:48.217373Z",
     "iopub.status.idle": "2023-04-24T03:24:48.230415Z",
     "shell.execute_reply": "2023-04-24T03:24:48.229150Z"
    },
    "papermill": {
     "duration": 0.026023,
     "end_time": "2023-04-24T03:24:48.232728",
     "exception": false,
     "start_time": "2023-04-24T03:24:48.206705",
     "status": "completed"
    },
    "tags": []
   },
   "outputs": [
    {
     "name": "stdout",
     "output_type": "stream",
     "text": [
      " * sqlite:///socioeconomic.db\n",
      "Done.\n"
     ]
    },
    {
     "data": {
      "text/html": [
       "<table>\n",
       "    <tr>\n",
       "        <th>COUNT(*)</th>\n",
       "    </tr>\n",
       "    <tr>\n",
       "        <td>533</td>\n",
       "    </tr>\n",
       "</table>"
      ],
      "text/plain": [
       "[(533,)]"
      ]
     },
     "execution_count": 6,
     "metadata": {},
     "output_type": "execute_result"
    }
   ],
   "source": [
    "%sql SELECT COUNT(*) FROM ChicagoCrimeData"
   ]
  },
  {
   "cell_type": "markdown",
   "id": "efe14c7b",
   "metadata": {
    "papermill": {
     "duration": 0.008605,
     "end_time": "2023-04-24T03:24:48.250012",
     "exception": false,
     "start_time": "2023-04-24T03:24:48.241407",
     "status": "completed"
    },
    "tags": []
   },
   "source": [
    "### Problem 2\n",
    "\n",
    "#### List community areas with per capita income less than 11000.\n"
   ]
  },
  {
   "cell_type": "code",
   "execution_count": 7,
   "id": "137f5206",
   "metadata": {
    "execution": {
     "iopub.execute_input": "2023-04-24T03:24:48.269877Z",
     "iopub.status.busy": "2023-04-24T03:24:48.269457Z",
     "iopub.status.idle": "2023-04-24T03:24:48.281095Z",
     "shell.execute_reply": "2023-04-24T03:24:48.279762Z"
    },
    "papermill": {
     "duration": 0.024569,
     "end_time": "2023-04-24T03:24:48.283711",
     "exception": false,
     "start_time": "2023-04-24T03:24:48.259142",
     "status": "completed"
    },
    "tags": []
   },
   "outputs": [
    {
     "name": "stdout",
     "output_type": "stream",
     "text": [
      " * sqlite:///socioeconomic.db\n",
      "Done.\n"
     ]
    },
    {
     "data": {
      "text/html": [
       "<table>\n",
       "    <tr>\n",
       "        <th>COMMUNITY_AREA_NAME</th>\n",
       "    </tr>\n",
       "    <tr>\n",
       "        <td>West Garfield Park</td>\n",
       "    </tr>\n",
       "    <tr>\n",
       "        <td>South Lawndale</td>\n",
       "    </tr>\n",
       "    <tr>\n",
       "        <td>Fuller Park</td>\n",
       "    </tr>\n",
       "    <tr>\n",
       "        <td>Riverdale</td>\n",
       "    </tr>\n",
       "</table>"
      ],
      "text/plain": [
       "[('West Garfield Park',),\n",
       " ('South Lawndale',),\n",
       " ('Fuller Park',),\n",
       " ('Riverdale',)]"
      ]
     },
     "execution_count": 7,
     "metadata": {},
     "output_type": "execute_result"
    }
   ],
   "source": [
    "%%sql SELECT COMMUNITY_AREA_NAME FROM ChicagoCensusData \n",
    "WHERE PER_CAPITA_INCOME < 11000"
   ]
  },
  {
   "cell_type": "markdown",
   "id": "40ef2519",
   "metadata": {
    "papermill": {
     "duration": 0.008965,
     "end_time": "2023-04-24T03:24:48.301770",
     "exception": false,
     "start_time": "2023-04-24T03:24:48.292805",
     "status": "completed"
    },
    "tags": []
   },
   "source": [
    "### Problem 3\n",
    "\n",
    "#### List all case numbers for crimes  involving minors?(children are not considered minors for the purposes of crime analysis)\n"
   ]
  },
  {
   "cell_type": "code",
   "execution_count": 8,
   "id": "2dbc9d28",
   "metadata": {
    "execution": {
     "iopub.execute_input": "2023-04-24T03:24:48.321933Z",
     "iopub.status.busy": "2023-04-24T03:24:48.321511Z",
     "iopub.status.idle": "2023-04-24T03:24:48.332647Z",
     "shell.execute_reply": "2023-04-24T03:24:48.331345Z"
    },
    "papermill": {
     "duration": 0.024693,
     "end_time": "2023-04-24T03:24:48.335521",
     "exception": false,
     "start_time": "2023-04-24T03:24:48.310828",
     "status": "completed"
    },
    "tags": []
   },
   "outputs": [
    {
     "name": "stdout",
     "output_type": "stream",
     "text": [
      " * sqlite:///socioeconomic.db\n",
      "Done.\n"
     ]
    },
    {
     "data": {
      "text/html": [
       "<table>\n",
       "    <tr>\n",
       "        <th>CASE_NUMBER</th>\n",
       "    </tr>\n",
       "    <tr>\n",
       "        <td>HL266884</td>\n",
       "    </tr>\n",
       "    <tr>\n",
       "        <td>HK238408</td>\n",
       "    </tr>\n",
       "</table>"
      ],
      "text/plain": [
       "[('HL266884',), ('HK238408',)]"
      ]
     },
     "execution_count": 8,
     "metadata": {},
     "output_type": "execute_result"
    }
   ],
   "source": [
    "%%sql SELECT CASE_NUMBER FROM ChicagoCrimeData \n",
    "WHERE DESCRIPTION LIKE '%MINOR%' \n",
    "AND DESCRIPTION NOT LIKE '%CHILDREN%'\n"
   ]
  },
  {
   "cell_type": "markdown",
   "id": "4faf6b1e",
   "metadata": {
    "papermill": {
     "duration": 0.008727,
     "end_time": "2023-04-24T03:24:48.353337",
     "exception": false,
     "start_time": "2023-04-24T03:24:48.344610",
     "status": "completed"
    },
    "tags": []
   },
   "source": [
    "### Problem 4\n",
    "\n",
    "#### List all kidnapping crimes involving a child?\n"
   ]
  },
  {
   "cell_type": "code",
   "execution_count": 9,
   "id": "398113ca",
   "metadata": {
    "execution": {
     "iopub.execute_input": "2023-04-24T03:24:48.373644Z",
     "iopub.status.busy": "2023-04-24T03:24:48.373206Z",
     "iopub.status.idle": "2023-04-24T03:24:48.386062Z",
     "shell.execute_reply": "2023-04-24T03:24:48.384867Z"
    },
    "papermill": {
     "duration": 0.026282,
     "end_time": "2023-04-24T03:24:48.388706",
     "exception": false,
     "start_time": "2023-04-24T03:24:48.362424",
     "status": "completed"
    },
    "tags": []
   },
   "outputs": [
    {
     "name": "stdout",
     "output_type": "stream",
     "text": [
      " * sqlite:///socioeconomic.db\n",
      "Done.\n"
     ]
    },
    {
     "data": {
      "text/html": [
       "<table>\n",
       "    <tr>\n",
       "        <th>CASE_NUMBER</th>\n",
       "        <th>DATE</th>\n",
       "        <th>PRIMARY_TYPE</th>\n",
       "        <th>DESCRIPTION</th>\n",
       "        <th>LOCATION_DESCRIPTION</th>\n",
       "    </tr>\n",
       "    <tr>\n",
       "        <td>HN144152</td>\n",
       "        <td>2007-01-26</td>\n",
       "        <td>KIDNAPPING</td>\n",
       "        <td>CHILD ABDUCTION/STRANGER</td>\n",
       "        <td>STREET</td>\n",
       "    </tr>\n",
       "</table>"
      ],
      "text/plain": [
       "[('HN144152', '2007-01-26', 'KIDNAPPING', 'CHILD ABDUCTION/STRANGER', 'STREET')]"
      ]
     },
     "execution_count": 9,
     "metadata": {},
     "output_type": "execute_result"
    }
   ],
   "source": [
    "%%sql SELECT Case_Number, Date, Primary_Type, Description, Location_Description FROM ChicagoCrimeData \n",
    "WHERE Primary_Type = 'KIDNAPPING' \n",
    "AND Description \n",
    "LIKE '%CHILD%'"
   ]
  },
  {
   "cell_type": "markdown",
   "id": "71c0b9b0",
   "metadata": {
    "papermill": {
     "duration": 0.009424,
     "end_time": "2023-04-24T03:24:48.408654",
     "exception": false,
     "start_time": "2023-04-24T03:24:48.399230",
     "status": "completed"
    },
    "tags": []
   },
   "source": [
    "### Problem 5\n",
    "\n",
    "#### What kinds of crimes were recorded at schools?\n"
   ]
  },
  {
   "cell_type": "code",
   "execution_count": 10,
   "id": "7980e68b",
   "metadata": {
    "execution": {
     "iopub.execute_input": "2023-04-24T03:24:48.430121Z",
     "iopub.status.busy": "2023-04-24T03:24:48.429713Z",
     "iopub.status.idle": "2023-04-24T03:24:48.440999Z",
     "shell.execute_reply": "2023-04-24T03:24:48.439669Z"
    },
    "papermill": {
     "duration": 0.025264,
     "end_time": "2023-04-24T03:24:48.443630",
     "exception": false,
     "start_time": "2023-04-24T03:24:48.418366",
     "status": "completed"
    },
    "tags": []
   },
   "outputs": [
    {
     "name": "stdout",
     "output_type": "stream",
     "text": [
      " * sqlite:///socioeconomic.db\n",
      "Done.\n"
     ]
    },
    {
     "data": {
      "text/html": [
       "<table>\n",
       "    <tr>\n",
       "        <th>PRIMARY_TYPE</th>\n",
       "    </tr>\n",
       "    <tr>\n",
       "        <td>BATTERY</td>\n",
       "    </tr>\n",
       "    <tr>\n",
       "        <td>CRIMINAL DAMAGE</td>\n",
       "    </tr>\n",
       "    <tr>\n",
       "        <td>NARCOTICS</td>\n",
       "    </tr>\n",
       "    <tr>\n",
       "        <td>ASSAULT</td>\n",
       "    </tr>\n",
       "    <tr>\n",
       "        <td>CRIMINAL TRESPASS</td>\n",
       "    </tr>\n",
       "    <tr>\n",
       "        <td>PUBLIC PEACE VIOLATION</td>\n",
       "    </tr>\n",
       "</table>"
      ],
      "text/plain": [
       "[('BATTERY',),\n",
       " ('CRIMINAL DAMAGE',),\n",
       " ('NARCOTICS',),\n",
       " ('ASSAULT',),\n",
       " ('CRIMINAL TRESPASS',),\n",
       " ('PUBLIC PEACE VIOLATION',)]"
      ]
     },
     "execution_count": 10,
     "metadata": {},
     "output_type": "execute_result"
    }
   ],
   "source": [
    "%%sql SELECT DISTINCT Primary_Type FROM ChicagoCrimeData \n",
    "WHERE Location_Description LIKE '%SCHOOL%'"
   ]
  },
  {
   "cell_type": "markdown",
   "id": "0d419e0c",
   "metadata": {
    "papermill": {
     "duration": 0.009782,
     "end_time": "2023-04-24T03:24:48.463199",
     "exception": false,
     "start_time": "2023-04-24T03:24:48.453417",
     "status": "completed"
    },
    "tags": []
   },
   "source": [
    "### Problem 6\n",
    "\n",
    "#### List the average safety score for each type of school.\n"
   ]
  },
  {
   "cell_type": "code",
   "execution_count": 11,
   "id": "dde6fa6e",
   "metadata": {
    "execution": {
     "iopub.execute_input": "2023-04-24T03:24:48.486033Z",
     "iopub.status.busy": "2023-04-24T03:24:48.485542Z",
     "iopub.status.idle": "2023-04-24T03:24:48.498041Z",
     "shell.execute_reply": "2023-04-24T03:24:48.496687Z"
    },
    "papermill": {
     "duration": 0.027414,
     "end_time": "2023-04-24T03:24:48.500671",
     "exception": false,
     "start_time": "2023-04-24T03:24:48.473257",
     "status": "completed"
    },
    "tags": []
   },
   "outputs": [
    {
     "name": "stdout",
     "output_type": "stream",
     "text": [
      " * sqlite:///socioeconomic.db\n",
      "Done.\n"
     ]
    },
    {
     "data": {
      "text/html": [
       "<table>\n",
       "    <tr>\n",
       "        <th>Elementary, Middle, or High School</th>\n",
       "        <th>avg_safety_score</th>\n",
       "    </tr>\n",
       "    <tr>\n",
       "        <td>ES</td>\n",
       "        <td>49.52</td>\n",
       "    </tr>\n",
       "    <tr>\n",
       "        <td>HS</td>\n",
       "        <td>49.62</td>\n",
       "    </tr>\n",
       "    <tr>\n",
       "        <td>MS</td>\n",
       "        <td>48.0</td>\n",
       "    </tr>\n",
       "</table>"
      ],
      "text/plain": [
       "[('ES', 49.52), ('HS', 49.62), ('MS', 48.0)]"
      ]
     },
     "execution_count": 11,
     "metadata": {},
     "output_type": "execute_result"
    }
   ],
   "source": [
    "%%sql SELECT \"Elementary, Middle, or High School\", ROUND(AVG(SAFETY_SCORE),2) AS avg_safety_score\n",
    "FROM ChicagoPublicSchools\n",
    "GROUP BY \"Elementary, Middle, or High School\"\n"
   ]
  },
  {
   "cell_type": "markdown",
   "id": "ac6105ef",
   "metadata": {
    "papermill": {
     "duration": 0.010352,
     "end_time": "2023-04-24T03:24:48.521811",
     "exception": false,
     "start_time": "2023-04-24T03:24:48.511459",
     "status": "completed"
    },
    "tags": []
   },
   "source": [
    "### Problem 7\n",
    "\n",
    "#### Top 5 Crimes to arrest and Crimes to pay fines on each community area name"
   ]
  },
  {
   "cell_type": "code",
   "execution_count": 12,
   "id": "8e1e752f",
   "metadata": {
    "execution": {
     "iopub.execute_input": "2023-04-24T03:24:48.545575Z",
     "iopub.status.busy": "2023-04-24T03:24:48.545028Z",
     "iopub.status.idle": "2023-04-24T03:24:48.551126Z",
     "shell.execute_reply": "2023-04-24T03:24:48.549598Z"
    },
    "papermill": {
     "duration": 0.021735,
     "end_time": "2023-04-24T03:24:48.554086",
     "exception": false,
     "start_time": "2023-04-24T03:24:48.532351",
     "status": "completed"
    },
    "tags": []
   },
   "outputs": [],
   "source": [
    "import matplotlib.pyplot as plt"
   ]
  },
  {
   "cell_type": "code",
   "execution_count": 13,
   "id": "ab352eb8",
   "metadata": {
    "execution": {
     "iopub.execute_input": "2023-04-24T03:24:48.577952Z",
     "iopub.status.busy": "2023-04-24T03:24:48.577419Z",
     "iopub.status.idle": "2023-04-24T03:25:20.551634Z",
     "shell.execute_reply": "2023-04-24T03:25:20.549793Z"
    },
    "papermill": {
     "duration": 31.99053,
     "end_time": "2023-04-24T03:25:20.555092",
     "exception": false,
     "start_time": "2023-04-24T03:24:48.564562",
     "status": "completed"
    },
    "tags": []
   },
   "outputs": [
    {
     "name": "stdout",
     "output_type": "stream",
     "text": [
      "Requirement already satisfied: matplotlib in /opt/conda/lib/python3.7/site-packages (3.5.3)\r\n",
      "Requirement already satisfied: packaging>=20.0 in /opt/conda/lib/python3.7/site-packages (from matplotlib) (23.0)\r\n",
      "Requirement already satisfied: numpy>=1.17 in /opt/conda/lib/python3.7/site-packages (from matplotlib) (1.21.6)\r\n",
      "Requirement already satisfied: fonttools>=4.22.0 in /opt/conda/lib/python3.7/site-packages (from matplotlib) (4.38.0)\r\n",
      "Requirement already satisfied: cycler>=0.10 in /opt/conda/lib/python3.7/site-packages (from matplotlib) (0.11.0)\r\n",
      "Requirement already satisfied: python-dateutil>=2.7 in /opt/conda/lib/python3.7/site-packages (from matplotlib) (2.8.2)\r\n",
      "Requirement already satisfied: pillow>=6.2.0 in /opt/conda/lib/python3.7/site-packages (from matplotlib) (9.4.0)\r\n",
      "Requirement already satisfied: kiwisolver>=1.0.1 in /opt/conda/lib/python3.7/site-packages (from matplotlib) (1.4.4)\r\n",
      "Requirement already satisfied: pyparsing>=2.2.1 in /opt/conda/lib/python3.7/site-packages (from matplotlib) (3.0.9)\r\n",
      "Requirement already satisfied: typing-extensions in /opt/conda/lib/python3.7/site-packages (from kiwisolver>=1.0.1->matplotlib) (4.4.0)\r\n",
      "Requirement already satisfied: six>=1.5 in /opt/conda/lib/python3.7/site-packages (from python-dateutil>=2.7->matplotlib) (1.16.0)\r\n",
      "\u001b[33mWARNING: Running pip as the 'root' user can result in broken permissions and conflicting behaviour with the system package manager. It is recommended to use a virtual environment instead: https://pip.pypa.io/warnings/venv\u001b[0m\u001b[33m\r\n",
      "\u001b[0m\u001b[33mWARNING: There was an error checking the latest version of pip.\u001b[0m\u001b[33m\r\n",
      "\u001b[0m"
     ]
    }
   ],
   "source": [
    "!pip install matplotlib"
   ]
  },
  {
   "cell_type": "code",
   "execution_count": 14,
   "id": "37cfb266",
   "metadata": {
    "execution": {
     "iopub.execute_input": "2023-04-24T03:25:20.587148Z",
     "iopub.status.busy": "2023-04-24T03:25:20.586488Z",
     "iopub.status.idle": "2023-04-24T03:25:20.611450Z",
     "shell.execute_reply": "2023-04-24T03:25:20.609655Z"
    },
    "papermill": {
     "duration": 0.04803,
     "end_time": "2023-04-24T03:25:20.615654",
     "exception": false,
     "start_time": "2023-04-24T03:25:20.567624",
     "status": "completed"
    },
    "tags": []
   },
   "outputs": [
    {
     "name": "stdout",
     "output_type": "stream",
     "text": [
      " * sqlite:///socioeconomic.db\n",
      "Done.\n"
     ]
    },
    {
     "data": {
      "text/html": [
       "<table>\n",
       "    <tr>\n",
       "        <th>COMMUNITY_AREA_NAME</th>\n",
       "        <th>TotalCrimesToArrest</th>\n",
       "        <th>TotalCrimesToPayFines</th>\n",
       "        <th>Total_Crime</th>\n",
       "    </tr>\n",
       "    <tr>\n",
       "        <td>Austin</td>\n",
       "        <td>11</td>\n",
       "        <td>32</td>\n",
       "        <td>43</td>\n",
       "    </tr>\n",
       "    <tr>\n",
       "        <td>Humboldt park</td>\n",
       "        <td>7</td>\n",
       "        <td>15</td>\n",
       "        <td>22</td>\n",
       "    </tr>\n",
       "    <tr>\n",
       "        <td>Englewood</td>\n",
       "        <td>4</td>\n",
       "        <td>17</td>\n",
       "        <td>21</td>\n",
       "    </tr>\n",
       "    <tr>\n",
       "        <td>North Lawndale</td>\n",
       "        <td>6</td>\n",
       "        <td>10</td>\n",
       "        <td>16</td>\n",
       "    </tr>\n",
       "    <tr>\n",
       "        <td>Near West Side</td>\n",
       "        <td>4</td>\n",
       "        <td>12</td>\n",
       "        <td>16</td>\n",
       "    </tr>\n",
       "    <tr>\n",
       "        <td>Near North Side</td>\n",
       "        <td>8</td>\n",
       "        <td>7</td>\n",
       "        <td>15</td>\n",
       "    </tr>\n",
       "    <tr>\n",
       "        <td>Auburn Gresham</td>\n",
       "        <td>3</td>\n",
       "        <td>11</td>\n",
       "        <td>14</td>\n",
       "    </tr>\n",
       "    <tr>\n",
       "        <td>West Town</td>\n",
       "        <td>3</td>\n",
       "        <td>10</td>\n",
       "        <td>13</td>\n",
       "    </tr>\n",
       "    <tr>\n",
       "        <td>West Englewood</td>\n",
       "        <td>3</td>\n",
       "        <td>9</td>\n",
       "        <td>12</td>\n",
       "    </tr>\n",
       "    <tr>\n",
       "        <td>Chicago Lawn</td>\n",
       "        <td>6</td>\n",
       "        <td>6</td>\n",
       "        <td>12</td>\n",
       "    </tr>\n",
       "    <tr>\n",
       "        <td>Roseland</td>\n",
       "        <td>2</td>\n",
       "        <td>9</td>\n",
       "        <td>11</td>\n",
       "    </tr>\n",
       "    <tr>\n",
       "        <td>Lake View</td>\n",
       "        <td>3</td>\n",
       "        <td>8</td>\n",
       "        <td>11</td>\n",
       "    </tr>\n",
       "    <tr>\n",
       "        <td>Greater Grand Crossing</td>\n",
       "        <td>4</td>\n",
       "        <td>7</td>\n",
       "        <td>11</td>\n",
       "    </tr>\n",
       "    <tr>\n",
       "        <td>West Garfield Park</td>\n",
       "        <td>4</td>\n",
       "        <td>6</td>\n",
       "        <td>10</td>\n",
       "    </tr>\n",
       "    <tr>\n",
       "        <td>New City</td>\n",
       "        <td>4</td>\n",
       "        <td>6</td>\n",
       "        <td>10</td>\n",
       "    </tr>\n",
       "    <tr>\n",
       "        <td>Brighton Park</td>\n",
       "        <td>4</td>\n",
       "        <td>6</td>\n",
       "        <td>10</td>\n",
       "    </tr>\n",
       "    <tr>\n",
       "        <td>South Shore</td>\n",
       "        <td>2</td>\n",
       "        <td>7</td>\n",
       "        <td>9</td>\n",
       "    </tr>\n",
       "    <tr>\n",
       "        <td>South Chicago</td>\n",
       "        <td>3</td>\n",
       "        <td>6</td>\n",
       "        <td>9</td>\n",
       "    </tr>\n",
       "    <tr>\n",
       "        <td>Lower West Side</td>\n",
       "        <td>3</td>\n",
       "        <td>6</td>\n",
       "        <td>9</td>\n",
       "    </tr>\n",
       "    <tr>\n",
       "        <td>Logan Square</td>\n",
       "        <td>2</td>\n",
       "        <td>7</td>\n",
       "        <td>9</td>\n",
       "    </tr>\n",
       "    <tr>\n",
       "        <td>Woodlawn</td>\n",
       "        <td>4</td>\n",
       "        <td>4</td>\n",
       "        <td>8</td>\n",
       "    </tr>\n",
       "    <tr>\n",
       "        <td>South Lawndale</td>\n",
       "        <td>1</td>\n",
       "        <td>7</td>\n",
       "        <td>8</td>\n",
       "    </tr>\n",
       "    <tr>\n",
       "        <td>Irving Park</td>\n",
       "        <td>1</td>\n",
       "        <td>7</td>\n",
       "        <td>8</td>\n",
       "    </tr>\n",
       "    <tr>\n",
       "        <td>Grand Boulevard</td>\n",
       "        <td>2</td>\n",
       "        <td>6</td>\n",
       "        <td>8</td>\n",
       "    </tr>\n",
       "    <tr>\n",
       "        <td>East Garfield Park</td>\n",
       "        <td>3</td>\n",
       "        <td>5</td>\n",
       "        <td>8</td>\n",
       "    </tr>\n",
       "    <tr>\n",
       "        <td>Chatham</td>\n",
       "        <td>1</td>\n",
       "        <td>7</td>\n",
       "        <td>8</td>\n",
       "    </tr>\n",
       "    <tr>\n",
       "        <td>Belmont Cragin</td>\n",
       "        <td>1</td>\n",
       "        <td>7</td>\n",
       "        <td>8</td>\n",
       "    </tr>\n",
       "    <tr>\n",
       "        <td>Ashburn</td>\n",
       "        <td>4</td>\n",
       "        <td>4</td>\n",
       "        <td>8</td>\n",
       "    </tr>\n",
       "    <tr>\n",
       "        <td>West Ridge</td>\n",
       "        <td>2</td>\n",
       "        <td>5</td>\n",
       "        <td>7</td>\n",
       "    </tr>\n",
       "    <tr>\n",
       "        <td>Loop</td>\n",
       "        <td>3</td>\n",
       "        <td>4</td>\n",
       "        <td>7</td>\n",
       "    </tr>\n",
       "    <tr>\n",
       "        <td>Gage Park</td>\n",
       "        <td>1</td>\n",
       "        <td>6</td>\n",
       "        <td>7</td>\n",
       "    </tr>\n",
       "    <tr>\n",
       "        <td>West Pullman</td>\n",
       "        <td>1</td>\n",
       "        <td>5</td>\n",
       "        <td>6</td>\n",
       "    </tr>\n",
       "    <tr>\n",
       "        <td>Rogers Park</td>\n",
       "        <td>3</td>\n",
       "        <td>3</td>\n",
       "        <td>6</td>\n",
       "    </tr>\n",
       "    <tr>\n",
       "        <td>Avondale</td>\n",
       "        <td>0</td>\n",
       "        <td>6</td>\n",
       "        <td>6</td>\n",
       "    </tr>\n",
       "    <tr>\n",
       "        <td>Portage Park</td>\n",
       "        <td>1</td>\n",
       "        <td>4</td>\n",
       "        <td>5</td>\n",
       "    </tr>\n",
       "    <tr>\n",
       "        <td>Lincoln Park</td>\n",
       "        <td>3</td>\n",
       "        <td>2</td>\n",
       "        <td>5</td>\n",
       "    </tr>\n",
       "    <tr>\n",
       "        <td>Douglas</td>\n",
       "        <td>3</td>\n",
       "        <td>2</td>\n",
       "        <td>5</td>\n",
       "    </tr>\n",
       "    <tr>\n",
       "        <td>Calumet Heights</td>\n",
       "        <td>2</td>\n",
       "        <td>3</td>\n",
       "        <td>5</td>\n",
       "    </tr>\n",
       "    <tr>\n",
       "        <td>Albany Park</td>\n",
       "        <td>1</td>\n",
       "        <td>4</td>\n",
       "        <td>5</td>\n",
       "    </tr>\n",
       "    <tr>\n",
       "        <td>West Elsdon</td>\n",
       "        <td>1</td>\n",
       "        <td>3</td>\n",
       "        <td>4</td>\n",
       "    </tr>\n",
       "    <tr>\n",
       "        <td>Uptown</td>\n",
       "        <td>4</td>\n",
       "        <td>0</td>\n",
       "        <td>4</td>\n",
       "    </tr>\n",
       "    <tr>\n",
       "        <td>South Deering</td>\n",
       "        <td>2</td>\n",
       "        <td>2</td>\n",
       "        <td>4</td>\n",
       "    </tr>\n",
       "    <tr>\n",
       "        <td>O&#x27;Hare</td>\n",
       "        <td>1</td>\n",
       "        <td>3</td>\n",
       "        <td>4</td>\n",
       "    </tr>\n",
       "    <tr>\n",
       "        <td>North Center</td>\n",
       "        <td>2</td>\n",
       "        <td>2</td>\n",
       "        <td>4</td>\n",
       "    </tr>\n",
       "    <tr>\n",
       "        <td>Kenwood</td>\n",
       "        <td>0</td>\n",
       "        <td>4</td>\n",
       "        <td>4</td>\n",
       "    </tr>\n",
       "    <tr>\n",
       "        <td>Beverly</td>\n",
       "        <td>0</td>\n",
       "        <td>4</td>\n",
       "        <td>4</td>\n",
       "    </tr>\n",
       "    <tr>\n",
       "        <td>Avalon Park</td>\n",
       "        <td>0</td>\n",
       "        <td>4</td>\n",
       "        <td>4</td>\n",
       "    </tr>\n",
       "    <tr>\n",
       "        <td>West Lawn</td>\n",
       "        <td>2</td>\n",
       "        <td>1</td>\n",
       "        <td>3</td>\n",
       "    </tr>\n",
       "    <tr>\n",
       "        <td>Washington Height</td>\n",
       "        <td>0</td>\n",
       "        <td>3</td>\n",
       "        <td>3</td>\n",
       "    </tr>\n",
       "    <tr>\n",
       "        <td>Pullman</td>\n",
       "        <td>0</td>\n",
       "        <td>3</td>\n",
       "        <td>3</td>\n",
       "    </tr>\n",
       "    <tr>\n",
       "        <td>Norwood Park</td>\n",
       "        <td>0</td>\n",
       "        <td>3</td>\n",
       "        <td>3</td>\n",
       "    </tr>\n",
       "    <tr>\n",
       "        <td>Lincoln Square</td>\n",
       "        <td>1</td>\n",
       "        <td>2</td>\n",
       "        <td>3</td>\n",
       "    </tr>\n",
       "    <tr>\n",
       "        <td>Hermosa</td>\n",
       "        <td>1</td>\n",
       "        <td>2</td>\n",
       "        <td>3</td>\n",
       "    </tr>\n",
       "    <tr>\n",
       "        <td>Dunning</td>\n",
       "        <td>0</td>\n",
       "        <td>3</td>\n",
       "        <td>3</td>\n",
       "    </tr>\n",
       "    <tr>\n",
       "        <td>Riverdale</td>\n",
       "        <td>1</td>\n",
       "        <td>1</td>\n",
       "        <td>2</td>\n",
       "    </tr>\n",
       "    <tr>\n",
       "        <td>Montclaire</td>\n",
       "        <td>1</td>\n",
       "        <td>1</td>\n",
       "        <td>2</td>\n",
       "    </tr>\n",
       "    <tr>\n",
       "        <td>McKinley Park</td>\n",
       "        <td>1</td>\n",
       "        <td>1</td>\n",
       "        <td>2</td>\n",
       "    </tr>\n",
       "    <tr>\n",
       "        <td>Jefferson Park</td>\n",
       "        <td>0</td>\n",
       "        <td>2</td>\n",
       "        <td>2</td>\n",
       "    </tr>\n",
       "    <tr>\n",
       "        <td>Hyde Park</td>\n",
       "        <td>0</td>\n",
       "        <td>2</td>\n",
       "        <td>2</td>\n",
       "    </tr>\n",
       "    <tr>\n",
       "        <td>Garfield Ridge</td>\n",
       "        <td>1</td>\n",
       "        <td>1</td>\n",
       "        <td>2</td>\n",
       "    </tr>\n",
       "    <tr>\n",
       "        <td>Fuller Park</td>\n",
       "        <td>1</td>\n",
       "        <td>1</td>\n",
       "        <td>2</td>\n",
       "    </tr>\n",
       "    <tr>\n",
       "        <td>Edgewater</td>\n",
       "        <td>0</td>\n",
       "        <td>2</td>\n",
       "        <td>2</td>\n",
       "    </tr>\n",
       "    <tr>\n",
       "        <td>East Side</td>\n",
       "        <td>0</td>\n",
       "        <td>2</td>\n",
       "        <td>2</td>\n",
       "    </tr>\n",
       "    <tr>\n",
       "        <td>Clearing</td>\n",
       "        <td>0</td>\n",
       "        <td>2</td>\n",
       "        <td>2</td>\n",
       "    </tr>\n",
       "    <tr>\n",
       "        <td>Near South Side</td>\n",
       "        <td>0</td>\n",
       "        <td>1</td>\n",
       "        <td>1</td>\n",
       "    </tr>\n",
       "    <tr>\n",
       "        <td>Morgan Park</td>\n",
       "        <td>0</td>\n",
       "        <td>1</td>\n",
       "        <td>1</td>\n",
       "    </tr>\n",
       "    <tr>\n",
       "        <td>Hegewisch</td>\n",
       "        <td>1</td>\n",
       "        <td>0</td>\n",
       "        <td>1</td>\n",
       "    </tr>\n",
       "    <tr>\n",
       "        <td>Forest Glen</td>\n",
       "        <td>0</td>\n",
       "        <td>1</td>\n",
       "        <td>1</td>\n",
       "    </tr>\n",
       "    <tr>\n",
       "        <td>Burnside</td>\n",
       "        <td>0</td>\n",
       "        <td>1</td>\n",
       "        <td>1</td>\n",
       "    </tr>\n",
       "    <tr>\n",
       "        <td>Bridgeport</td>\n",
       "        <td>0</td>\n",
       "        <td>1</td>\n",
       "        <td>1</td>\n",
       "    </tr>\n",
       "</table>"
      ],
      "text/plain": [
       "[('Austin', 11, 32, 43),\n",
       " ('Humboldt park', 7, 15, 22),\n",
       " ('Englewood', 4, 17, 21),\n",
       " ('North Lawndale', 6, 10, 16),\n",
       " ('Near West Side', 4, 12, 16),\n",
       " ('Near North Side', 8, 7, 15),\n",
       " ('Auburn Gresham', 3, 11, 14),\n",
       " ('West Town', 3, 10, 13),\n",
       " ('West Englewood', 3, 9, 12),\n",
       " ('Chicago Lawn', 6, 6, 12),\n",
       " ('Roseland', 2, 9, 11),\n",
       " ('Lake View', 3, 8, 11),\n",
       " ('Greater Grand Crossing', 4, 7, 11),\n",
       " ('West Garfield Park', 4, 6, 10),\n",
       " ('New City', 4, 6, 10),\n",
       " ('Brighton Park', 4, 6, 10),\n",
       " ('South Shore', 2, 7, 9),\n",
       " ('South Chicago', 3, 6, 9),\n",
       " ('Lower West Side', 3, 6, 9),\n",
       " ('Logan Square', 2, 7, 9),\n",
       " ('Woodlawn', 4, 4, 8),\n",
       " ('South Lawndale', 1, 7, 8),\n",
       " ('Irving Park', 1, 7, 8),\n",
       " ('Grand Boulevard', 2, 6, 8),\n",
       " ('East Garfield Park', 3, 5, 8),\n",
       " ('Chatham', 1, 7, 8),\n",
       " ('Belmont Cragin', 1, 7, 8),\n",
       " ('Ashburn', 4, 4, 8),\n",
       " ('West Ridge', 2, 5, 7),\n",
       " ('Loop', 3, 4, 7),\n",
       " ('Gage Park', 1, 6, 7),\n",
       " ('West Pullman', 1, 5, 6),\n",
       " ('Rogers Park', 3, 3, 6),\n",
       " ('Avondale', 0, 6, 6),\n",
       " ('Portage Park', 1, 4, 5),\n",
       " ('Lincoln Park', 3, 2, 5),\n",
       " ('Douglas', 3, 2, 5),\n",
       " ('Calumet Heights', 2, 3, 5),\n",
       " ('Albany Park', 1, 4, 5),\n",
       " ('West Elsdon', 1, 3, 4),\n",
       " ('Uptown', 4, 0, 4),\n",
       " ('South Deering', 2, 2, 4),\n",
       " (\"O'Hare\", 1, 3, 4),\n",
       " ('North Center', 2, 2, 4),\n",
       " ('Kenwood', 0, 4, 4),\n",
       " ('Beverly', 0, 4, 4),\n",
       " ('Avalon Park', 0, 4, 4),\n",
       " ('West Lawn', 2, 1, 3),\n",
       " ('Washington Height', 0, 3, 3),\n",
       " ('Pullman', 0, 3, 3),\n",
       " ('Norwood Park', 0, 3, 3),\n",
       " ('Lincoln Square', 1, 2, 3),\n",
       " ('Hermosa', 1, 2, 3),\n",
       " ('Dunning', 0, 3, 3),\n",
       " ('Riverdale', 1, 1, 2),\n",
       " ('Montclaire', 1, 1, 2),\n",
       " ('McKinley Park', 1, 1, 2),\n",
       " ('Jefferson Park', 0, 2, 2),\n",
       " ('Hyde Park', 0, 2, 2),\n",
       " ('Garfield Ridge', 1, 1, 2),\n",
       " ('Fuller Park', 1, 1, 2),\n",
       " ('Edgewater', 0, 2, 2),\n",
       " ('East Side', 0, 2, 2),\n",
       " ('Clearing', 0, 2, 2),\n",
       " ('Near South Side', 0, 1, 1),\n",
       " ('Morgan Park', 0, 1, 1),\n",
       " ('Hegewisch', 1, 0, 1),\n",
       " ('Forest Glen', 0, 1, 1),\n",
       " ('Burnside', 0, 1, 1),\n",
       " ('Bridgeport', 0, 1, 1)]"
      ]
     },
     "execution_count": 14,
     "metadata": {},
     "output_type": "execute_result"
    }
   ],
   "source": [
    "%%sql \n",
    "SELECT Census.COMMUNITY_AREA_NAME, \n",
    "COUNT(CASE WHEN CrimeData.Arrest = 1 THEN 1 END) AS 'TotalCrimesToArrest',\n",
    "COUNT(CASE WHEN CrimeData.Arrest = 0 THEN 0 END) AS 'TotalCrimesToPayFines',\n",
    "COUNT(CrimeData.COMMUNITY_AREA_NUMBER) AS Total_Crime \n",
    "FROM ChicagoCensusData AS Census \n",
    "JOIN ChicagoCrimeData AS CrimeData ON Census.COMMUNITY_AREA_NUMBER = CrimeData.COMMUNITY_AREA_NUMBER \n",
    "GROUP BY Census.COMMUNITY_AREA_NAME \n",
    "ORDER BY Total_Crime DESC\n"
   ]
  },
  {
   "cell_type": "code",
   "execution_count": 15,
   "id": "43da4642",
   "metadata": {
    "execution": {
     "iopub.execute_input": "2023-04-24T03:25:20.648457Z",
     "iopub.status.busy": "2023-04-24T03:25:20.647514Z",
     "iopub.status.idle": "2023-04-24T03:25:22.819073Z",
     "shell.execute_reply": "2023-04-24T03:25:22.817736Z"
    },
    "papermill": {
     "duration": 2.190893,
     "end_time": "2023-04-24T03:25:22.824886",
     "exception": false,
     "start_time": "2023-04-24T03:25:20.633993",
     "status": "completed"
    },
    "tags": []
   },
   "outputs": [
    {
     "name": "stdout",
     "output_type": "stream",
     "text": [
      " * sqlite:///socioeconomic.db\n",
      "Done.\n"
     ]
    },
    {
     "data": {
      "image/png": "[encoded data removed]",
      "text/plain": [
       "<Figure size 2000x800 with 1 Axes>"
      ]
     },
     "metadata": {},
     "output_type": "display_data"
    }
   ],
   "source": [
    "# Run SQL query\n",
    "query = '''\n",
    "SELECT Census.COMMUNITY_AREA_NAME, \n",
    "COUNT(CASE WHEN CrimeData.Arrest = 1 THEN 1 END) AS 'TotalCrimesToArrest',\n",
    "COUNT(CASE WHEN CrimeData.Arrest = 0 THEN 0 END) AS 'TotalCrimesToPayFines',\n",
    "COUNT(CrimeData.COMMUNITY_AREA_NUMBER) AS Total_Crime \n",
    "FROM ChicagoCensusData AS Census \n",
    "JOIN ChicagoCrimeData AS CrimeData ON Census.COMMUNITY_AREA_NUMBER = CrimeData.COMMUNITY_AREA_NUMBER \n",
    "GROUP BY Census.COMMUNITY_AREA_NAME \n",
    "ORDER BY Total_Crime DESC;\n",
    "'''\n",
    "df = %sql $query\n",
    "df = df.DataFrame()\n",
    "\n",
    "# Create stacked bar chart\n",
    "plt.figure(figsize=(20,8))\n",
    "plt.bar(df['COMMUNITY_AREA_NAME'], df['TotalCrimesToArrest'], label='Crimes resulting in Arrest')\n",
    "plt.bar(df['COMMUNITY_AREA_NAME'], df['TotalCrimesToPayFines'], bottom=df['TotalCrimesToArrest'], label='Crimes resulting in Fines')\n",
    "plt.xlabel('Community Area Name', fontsize=14)\n",
    "plt.ylabel('Total Crimes', fontsize=14)\n",
    "plt.title('Total Crimes by Community Area', fontsize=16)\n",
    "plt.xticks(rotation=45, ha='right')\n",
    "plt.legend()\n",
    "\n",
    "# Add the Total_Crime column as a label to each bar\n",
    "for i, (arrest, fines, total) in enumerate(zip(df['TotalCrimesToArrest'], df['TotalCrimesToPayFines'], df['Total_Crime'])):\n",
    "    plt.text(i, arrest/2, arrest, ha='center', va='center', fontsize=8)\n",
    "    plt.text(i, arrest + fines/2, fines, ha='center', va='center', fontsize=8)\n",
    "    plt.text(i, arrest + fines + total*0.025, total, ha='center', va='center', fontsize=8)\n",
    "\n",
    "plt.show()"
   ]
  },
  {
   "cell_type": "markdown",
   "id": "86c60907",
   "metadata": {
    "papermill": {
     "duration": 0.015466,
     "end_time": "2023-04-24T03:25:22.855581",
     "exception": false,
     "start_time": "2023-04-24T03:25:22.840115",
     "status": "completed"
    },
    "tags": []
   },
   "source": [
    "### Problem 8\n",
    "\n",
    "#### List 5 community areas with highest % of households below poverty line\n"
   ]
  },
  {
   "cell_type": "code",
   "execution_count": 16,
   "id": "9bfcbc1c",
   "metadata": {
    "execution": {
     "iopub.execute_input": "2023-04-24T03:25:22.889162Z",
     "iopub.status.busy": "2023-04-24T03:25:22.888695Z",
     "iopub.status.idle": "2023-04-24T03:25:22.901160Z",
     "shell.execute_reply": "2023-04-24T03:25:22.899783Z"
    },
    "papermill": {
     "duration": 0.032707,
     "end_time": "2023-04-24T03:25:22.903786",
     "exception": false,
     "start_time": "2023-04-24T03:25:22.871079",
     "status": "completed"
    },
    "tags": []
   },
   "outputs": [
    {
     "name": "stdout",
     "output_type": "stream",
     "text": [
      " * sqlite:///socioeconomic.db\n",
      "Done.\n"
     ]
    },
    {
     "data": {
      "text/html": [
       "<table>\n",
       "    <tr>\n",
       "        <th>COMMUNITY_AREA_NAME</th>\n",
       "        <th>PERCENT_HOUSEHOLDS_BELOW_POVERTY</th>\n",
       "    </tr>\n",
       "    <tr>\n",
       "        <td>Riverdale</td>\n",
       "        <td>56.5</td>\n",
       "    </tr>\n",
       "    <tr>\n",
       "        <td>Fuller Park</td>\n",
       "        <td>51.2</td>\n",
       "    </tr>\n",
       "    <tr>\n",
       "        <td>Englewood</td>\n",
       "        <td>46.6</td>\n",
       "    </tr>\n",
       "    <tr>\n",
       "        <td>North Lawndale</td>\n",
       "        <td>43.1</td>\n",
       "    </tr>\n",
       "    <tr>\n",
       "        <td>East Garfield Park</td>\n",
       "        <td>42.4</td>\n",
       "    </tr>\n",
       "</table>"
      ],
      "text/plain": [
       "[('Riverdale', 56.5),\n",
       " ('Fuller Park', 51.2),\n",
       " ('Englewood', 46.6),\n",
       " ('North Lawndale', 43.1),\n",
       " ('East Garfield Park', 42.4)]"
      ]
     },
     "execution_count": 16,
     "metadata": {},
     "output_type": "execute_result"
    }
   ],
   "source": [
    "%%sql SELECT community_area_name, percent_households_below_poverty FROM ChicagoCensusData \n",
    "ORDER BY percent_households_below_poverty \n",
    "DESC LIMIT 5;"
   ]
  },
  {
   "cell_type": "code",
   "execution_count": 17,
   "id": "b2dfe641",
   "metadata": {
    "execution": {
     "iopub.execute_input": "2023-04-24T03:25:22.938353Z",
     "iopub.status.busy": "2023-04-24T03:25:22.937858Z",
     "iopub.status.idle": "2023-04-24T03:25:23.211757Z",
     "shell.execute_reply": "2023-04-24T03:25:23.210234Z"
    },
    "papermill": {
     "duration": 0.295622,
     "end_time": "2023-04-24T03:25:23.214968",
     "exception": false,
     "start_time": "2023-04-24T03:25:22.919346",
     "status": "completed"
    },
    "tags": []
   },
   "outputs": [
    {
     "name": "stdout",
     "output_type": "stream",
     "text": [
      " * sqlite:///socioeconomic.db\n",
      "Done.\n"
     ]
    },
    {
     "data": {
      "image/png": "[encoded data removed]",
      "text/plain": [
       "<Figure size 640x480 with 1 Axes>"
      ]
     },
     "metadata": {},
     "output_type": "display_data"
    }
   ],
   "source": [
    "# Store the query result in a Pandas DataFrame\n",
    "df = %sql SELECT community_area_name, percent_households_below_poverty FROM ChicagoCensusData ORDER BY percent_households_below_poverty DESC LIMIT 5\n",
    "df = df.DataFrame()\n",
    "\n",
    "# Rename the columns if necessary\n",
    "df = df.rename(columns={'COMMUNITY_AREA_NAME': 'Community Area', 'PERCENT_HOUSEHOLDS_BELOW_POVERTY': 'Percentage of Households Below Poverty'})\n",
    "\n",
    "# Create the bar chart\n",
    "plt.bar(df['Community Area'], df['Percentage of Households Below Poverty'])\n",
    "\n",
    "# Add axis labels and title\n",
    "plt.xlabel('Community Area')\n",
    "plt.ylabel('Percentage of Households Below Poverty')\n",
    "plt.title('Top 5 Chicago Community Areas with Highest Percentage of Households Below Poverty')\n",
    "\n",
    "# Rotate x-axis labels for better readability\n",
    "plt.xticks(rotation=45)\n",
    "\n",
    "# Add labels inside the bars\n",
    "for i, value in enumerate(df['Percentage of Households Below Poverty']):\n",
    "    plt.text(i, value + 0.5, str(round(value, 2)) + '%', color='blue', fontweight='bold', ha='center')\n",
    "    \n",
    "# Display the chart\n",
    "plt.show()"
   ]
  },
  {
   "cell_type": "markdown",
   "id": "2577079a",
   "metadata": {
    "execution": {
     "iopub.execute_input": "2023-04-22T16:35:51.805916Z",
     "iopub.status.busy": "2023-04-22T16:35:51.805496Z",
     "iopub.status.idle": "2023-04-22T16:35:51.812099Z",
     "shell.execute_reply": "2023-04-22T16:35:51.810699Z",
     "shell.execute_reply.started": "2023-04-22T16:35:51.805880Z"
    },
    "papermill": {
     "duration": 0.017319,
     "end_time": "2023-04-24T03:25:23.249116",
     "exception": false,
     "start_time": "2023-04-24T03:25:23.231797",
     "status": "completed"
    },
    "tags": []
   },
   "source": [
    "### Problem 9\n",
    "\n",
    "#### Rate on the arrest of crimes"
   ]
  },
  {
   "cell_type": "code",
   "execution_count": 18,
   "id": "126f53ff",
   "metadata": {
    "execution": {
     "iopub.execute_input": "2023-04-24T03:25:23.286625Z",
     "iopub.status.busy": "2023-04-24T03:25:23.285656Z",
     "iopub.status.idle": "2023-04-24T03:25:23.299479Z",
     "shell.execute_reply": "2023-04-24T03:25:23.297964Z"
    },
    "papermill": {
     "duration": 0.035643,
     "end_time": "2023-04-24T03:25:23.302168",
     "exception": false,
     "start_time": "2023-04-24T03:25:23.266525",
     "status": "completed"
    },
    "tags": []
   },
   "outputs": [
    {
     "name": "stdout",
     "output_type": "stream",
     "text": [
      " * sqlite:///socioeconomic.db\n",
      "Done.\n"
     ]
    },
    {
     "data": {
      "text/html": [
       "<table>\n",
       "    <tr>\n",
       "        <th>%CrimesToArrest</th>\n",
       "        <th>%CrimesToPayFines</th>\n",
       "    </tr>\n",
       "    <tr>\n",
       "        <td>30.58</td>\n",
       "        <td>69.42</td>\n",
       "    </tr>\n",
       "</table>"
      ],
      "text/plain": [
       "[(30.58, 69.42)]"
      ]
     },
     "execution_count": 18,
     "metadata": {},
     "output_type": "execute_result"
    }
   ],
   "source": [
    "%%sql SELECT \n",
    "    ROUND(AVG(CASE WHEN Arrest = 1 THEN 100.0 ELSE 0.0 END),2) AS '%CrimesToArrest',\n",
    "    ROUND(AVG(CASE WHEN Arrest = 0 THEN 100.0 ELSE 0.0 END),2) AS '%CrimesToPayFines'\n",
    "FROM ChicagoCrimeData"
   ]
  },
  {
   "cell_type": "markdown",
   "id": "b0b84e11",
   "metadata": {
    "papermill": {
     "duration": 0.016556,
     "end_time": "2023-04-24T03:25:23.335493",
     "exception": false,
     "start_time": "2023-04-24T03:25:23.318937",
     "status": "completed"
    },
    "tags": []
   },
   "source": [
    "### Problem 10\n",
    "#### Show the rate on the arrest of crimes with pie chart"
   ]
  },
  {
   "cell_type": "code",
   "execution_count": 19,
   "id": "f38c59f4",
   "metadata": {
    "execution": {
     "iopub.execute_input": "2023-04-24T03:25:23.372997Z",
     "iopub.status.busy": "2023-04-24T03:25:23.372514Z",
     "iopub.status.idle": "2023-04-24T03:25:23.561025Z",
     "shell.execute_reply": "2023-04-24T03:25:23.559483Z"
    },
    "papermill": {
     "duration": 0.214649,
     "end_time": "2023-04-24T03:25:23.567495",
     "exception": false,
     "start_time": "2023-04-24T03:25:23.352846",
     "status": "completed"
    },
    "tags": []
   },
   "outputs": [
    {
     "name": "stdout",
     "output_type": "stream",
     "text": [
      " * sqlite:///socioeconomic.db\n",
      "Done.\n"
     ]
    },
    {
     "data": {
      "image/png": "[encoded data removed]",
      "text/plain": [
       "<Figure size 640x480 with 1 Axes>"
      ]
     },
     "metadata": {},
     "output_type": "display_data"
    }
   ],
   "source": [
    "# Run the SQL query to get the data\n",
    "data = %sql SELECT ROUND(AVG(CASE WHEN Arrest = 1 THEN 100.0 ELSE 0.0 END),2) AS '%CrimesToArrest', ROUND(AVG(CASE WHEN Arrest = 0 THEN 100.0 ELSE 0.0 END),2) AS '%CrimesToPayFines' FROM ChicagoCrimeData\n",
    "\n",
    "# Convert the data to a Pandas DataFrame\n",
    "df = pd.DataFrame(data, columns=['%CrimesToArrest', '%CrimesToPayFines'])\n",
    "\n",
    "# Plot the pie chart\n",
    "labels = ['Crimes to Arrest', 'Crimes to Pay Fines']\n",
    "sizes = df.values.flatten()\n",
    "colors = ['lightcoral', 'lightskyblue']\n",
    "explode = (0.1, 0)\n",
    "\n",
    "fig1, ax1 = plt.subplots()\n",
    "ax1.pie(sizes, explode=explode, labels=labels, colors=colors, autopct='%1.1f%%',\n",
    "        shadow=True, startangle=90)\n",
    "ax1.axis('equal')\n",
    "plt.title('Percentage of Crimes Resulting in Arrest or Fines')\n",
    "plt.show()"
   ]
  },
  {
   "cell_type": "markdown",
   "id": "9c7b7cde",
   "metadata": {
    "papermill": {
     "duration": 0.017736,
     "end_time": "2023-04-24T03:25:23.619805",
     "exception": false,
     "start_time": "2023-04-24T03:25:23.602069",
     "status": "completed"
    },
    "tags": []
   },
   "source": [
    "### Problem 11\n",
    "\n",
    "#### Which community area is most crime prone?\n"
   ]
  },
  {
   "cell_type": "code",
   "execution_count": 20,
   "id": "7cd2c8d9",
   "metadata": {
    "execution": {
     "iopub.execute_input": "2023-04-24T03:25:23.657733Z",
     "iopub.status.busy": "2023-04-24T03:25:23.657297Z",
     "iopub.status.idle": "2023-04-24T03:25:23.670009Z",
     "shell.execute_reply": "2023-04-24T03:25:23.668642Z"
    },
    "papermill": {
     "duration": 0.03487,
     "end_time": "2023-04-24T03:25:23.672621",
     "exception": false,
     "start_time": "2023-04-24T03:25:23.637751",
     "status": "completed"
    },
    "tags": []
   },
   "outputs": [
    {
     "name": "stdout",
     "output_type": "stream",
     "text": [
      " * sqlite:///socioeconomic.db\n",
      "Done.\n"
     ]
    },
    {
     "data": {
      "text/html": [
       "<table>\n",
       "    <tr>\n",
       "        <th>COMMUNITY_AREA_NAME</th>\n",
       "        <th>Num_Crimes</th>\n",
       "    </tr>\n",
       "    <tr>\n",
       "        <td>Austin</td>\n",
       "        <td>43</td>\n",
       "    </tr>\n",
       "</table>"
      ],
      "text/plain": [
       "[('Austin', 43)]"
      ]
     },
     "execution_count": 20,
     "metadata": {},
     "output_type": "execute_result"
    }
   ],
   "source": [
    "%%sql SELECT Community_Area_Name, COUNT(*) AS Num_Crimes FROM ChicagoCrimeData \n",
    "JOIN ChicagoCensusData ON ChicagoCrimeData.Community_Area_Number = ChicagoCensusData.Community_Area_Number \n",
    "GROUP BY Community_Area_Name \n",
    "ORDER BY Num_Crimes \n",
    "DESC LIMIT 1;"
   ]
  },
  {
   "cell_type": "markdown",
   "id": "a192dff7",
   "metadata": {
    "papermill": {
     "duration": 0.017588,
     "end_time": "2023-04-24T03:25:23.707877",
     "exception": false,
     "start_time": "2023-04-24T03:25:23.690289",
     "status": "completed"
    },
    "tags": []
   },
   "source": [
    "### Problem 12\n",
    "\n",
    "#### Use a sub-query to find the name of the community area with highest hardship index\n"
   ]
  },
  {
   "cell_type": "code",
   "execution_count": 21,
   "id": "4552fb41",
   "metadata": {
    "execution": {
     "iopub.execute_input": "2023-04-24T03:25:23.746438Z",
     "iopub.status.busy": "2023-04-24T03:25:23.745957Z",
     "iopub.status.idle": "2023-04-24T03:25:23.755574Z",
     "shell.execute_reply": "2023-04-24T03:25:23.754532Z"
    },
    "papermill": {
     "duration": 0.031781,
     "end_time": "2023-04-24T03:25:23.757920",
     "exception": false,
     "start_time": "2023-04-24T03:25:23.726139",
     "status": "completed"
    },
    "tags": []
   },
   "outputs": [
    {
     "name": "stdout",
     "output_type": "stream",
     "text": [
      " * sqlite:///socioeconomic.db\n",
      "Done.\n"
     ]
    },
    {
     "data": {
      "text/html": [
       "<table>\n",
       "    <tr>\n",
       "        <th>COMMUNITY_AREA_NAME</th>\n",
       "    </tr>\n",
       "    <tr>\n",
       "        <td>Riverdale</td>\n",
       "    </tr>\n",
       "</table>"
      ],
      "text/plain": [
       "[('Riverdale',)]"
      ]
     },
     "execution_count": 21,
     "metadata": {},
     "output_type": "execute_result"
    }
   ],
   "source": [
    "%%sql SELECT community_area_name FROM ChicagoCensusData \n",
    "WHERE hardship_index = (SELECT MAX(hardship_index) FROM ChicagoCensusData)\n"
   ]
  },
  {
   "cell_type": "markdown",
   "id": "649a1193",
   "metadata": {
    "papermill": {
     "duration": 0.017643,
     "end_time": "2023-04-24T03:25:23.793863",
     "exception": false,
     "start_time": "2023-04-24T03:25:23.776220",
     "status": "completed"
    },
    "tags": []
   },
   "source": [
    "### Problem 13\n",
    "\n",
    "#### Use a sub-query to determine the Community Area Name with most number of crimes?\n"
   ]
  },
  {
   "cell_type": "code",
   "execution_count": 22,
   "id": "af137562",
   "metadata": {
    "execution": {
     "iopub.execute_input": "2023-04-24T03:25:23.833451Z",
     "iopub.status.busy": "2023-04-24T03:25:23.832100Z",
     "iopub.status.idle": "2023-04-24T03:25:23.844042Z",
     "shell.execute_reply": "2023-04-24T03:25:23.843105Z"
    },
    "papermill": {
     "duration": 0.034259,
     "end_time": "2023-04-24T03:25:23.846665",
     "exception": false,
     "start_time": "2023-04-24T03:25:23.812406",
     "status": "completed"
    },
    "tags": []
   },
   "outputs": [
    {
     "name": "stdout",
     "output_type": "stream",
     "text": [
      " * sqlite:///socioeconomic.db\n",
      "Done.\n"
     ]
    },
    {
     "data": {
      "text/html": [
       "<table>\n",
       "    <tr>\n",
       "        <th>COMMUNITY_AREA_NAME</th>\n",
       "    </tr>\n",
       "    <tr>\n",
       "        <td>Austin</td>\n",
       "    </tr>\n",
       "</table>"
      ],
      "text/plain": [
       "[('Austin',)]"
      ]
     },
     "execution_count": 22,
     "metadata": {},
     "output_type": "execute_result"
    }
   ],
   "source": [
    "%%sql SELECT Community_Area_Name FROM ChicagoCensusData \n",
    "WHERE Community_Area_Number = ( SELECT Community_Area_Number FROM ChicagoCrimeData \n",
    "                               GROUP BY Community_Area_Number \n",
    "                               ORDER BY COUNT(*) \n",
    "                               DESC LIMIT 1)"
   ]
  },
  {
   "cell_type": "markdown",
   "id": "23e85b49",
   "metadata": {
    "papermill": {
     "duration": 0.018113,
     "end_time": "2023-04-24T03:25:23.883236",
     "exception": false,
     "start_time": "2023-04-24T03:25:23.865123",
     "status": "completed"
    },
    "tags": []
   },
   "source": [
    "Copyright © 2020 This notebook and its source code are released under the terms of the [MIT License](https://bigdatauniversity.com/mit-license?utm_medium=Exinfluencer&utm_source=Exinfluencer&utm_content=000026UJ&utm_term=10006555&utm_id=NA-SkillsNetwork-Channel-SkillsNetworkCoursesIBMDeveloperSkillsNetworkDB0201ENSkillsNetwork20127838-2021-01-01&cm_mmc=Email_Newsletter-_-Developer_Ed%2BTech-_-WW_WW-_-SkillsNetwork-Courses-IBMDeveloperSkillsNetwork-DB0201EN-SkillsNetwork-20127838&cm_mmca1=000026UJ&cm_mmca2=10006555&cm_mmca3=M12345678&cvosrc=email.Newsletter.M12345678&cvo_campaign=000026UJ).\n"
   ]
  },
  {
   "cell_type": "markdown",
   "id": "a4e77891",
   "metadata": {
    "papermill": {
     "duration": 0.018159,
     "end_time": "2023-04-24T03:25:23.919602",
     "exception": false,
     "start_time": "2023-04-24T03:25:23.901443",
     "status": "completed"
    },
    "tags": []
   },
   "source": [
    "## Author(s)\n",
    "\n",
    "<h4> Hima Vasudevan </h4>\n",
    "<h4> Rav Ahuja </h4>\n",
    "<h4> Ramesh Sannreddy </h4>\n",
    "\n",
    "## Contribtuor(s)\n",
    "\n",
    "<h4> Malika Singla </h4>\n",
    "\n",
    "## Change log\n",
    "\n",
    "| Date       | Version | Changed by        | Change Description                             |\n",
    "| ---------- | ------- | ----------------- | ---------------------------------------------- |\n",
    "| 2022-03-04 | 2.5     | Lakshmi Holla     | Changed markdown.                   |\n",
    "| 2021-05-19 | 2.4     | Lakshmi Holla     | Updated the question                           |\n",
    "| 2021-04-30 | 2.3     | Malika Singla     | Updated the libraries                          |\n",
    "| 2021-01-15 | 2.2     | Rav Ahuja         | Removed problem 11 and fixed changelog         |\n",
    "| 2020-11-25 | 2.1     | Ramesh Sannareddy | Updated the problem statements, and datasets   |\n",
    "| 2020-09-05 | 2.0     | Malika Singla     | Moved lab to course repo in GitLab             |\n",
    "| 2018-07-18 | 1.0     | Rav Ahuja         | Several updates including loading instructions |\n",
    "| 2018-05-04 | 0.1     | Hima Vasudevan    | Created initial version                        |\n",
    "\n",
    "## <h3 align=\"center\"> © IBM Corporation 2020. All rights reserved. <h3/>\n"
   ]
  }
 ],
 "metadata": {
  "kernelspec": {
   "display_name": "Python 3",
   "language": "python",
   "name": "python3"
  },
  "language_info": {
   "codemirror_mode": {
    "name": "ipython",
    "version": 3
   },
   "file_extension": ".py",
   "mimetype": "text/x-python",
   "name": "python",
   "nbconvert_exporter": "python",
   "pygments_lexer": "ipython3",
   "version": "3.7.12"
  },
  "papermill": {
   "default_parameters": {},
   "duration": 80.775457,
   "end_time": "2023-04-24T03:25:24.864640",
   "environment_variables": {},
   "exception": null,
   "input_path": "__notebook__.ipynb",
   "output_path": "__notebook__.ipynb",
   "parameters": {},
   "start_time": "2023-04-24T03:24:04.089183",
   "version": "2.4.0"
  }
 },
 "nbformat": 4,
 "nbformat_minor": 5
}
